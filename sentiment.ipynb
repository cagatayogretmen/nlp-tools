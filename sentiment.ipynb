{
  "nbformat": 4,
  "nbformat_minor": 0,
  "metadata": {
    "colab": {
      "name": "with_translate.ipynb",
      "provenance": [],
      "collapsed_sections": [],
      "toc_visible": true
    },
    "kernelspec": {
      "name": "python3",
      "display_name": "Python 3"
    }
  },
  "cells": [
    {
      "cell_type": "code",
      "metadata": {
        "id": "uM2jJlb79ofi",
        "colab_type": "code",
        "outputId": "d2dad9b0-2e0a-4bfa-a61a-4b2f949a8985",
        "colab": {
          "base_uri": "https://localhost:8080/",
          "height": 139
        }
      },
      "source": [
        "!pip install googletrans\n"
      ],
      "execution_count": 120,
      "outputs": [
        {
          "output_type": "stream",
          "text": [
            "Requirement already satisfied: googletrans in /usr/local/lib/python3.6/dist-packages (2.4.0)\n",
            "Requirement already satisfied: requests in /usr/local/lib/python3.6/dist-packages (from googletrans) (2.21.0)\n",
            "Requirement already satisfied: idna<2.9,>=2.5 in /usr/local/lib/python3.6/dist-packages (from requests->googletrans) (2.8)\n",
            "Requirement already satisfied: chardet<3.1.0,>=3.0.2 in /usr/local/lib/python3.6/dist-packages (from requests->googletrans) (3.0.4)\n",
            "Requirement already satisfied: urllib3<1.25,>=1.21.1 in /usr/local/lib/python3.6/dist-packages (from requests->googletrans) (1.24.3)\n",
            "Requirement already satisfied: certifi>=2017.4.17 in /usr/local/lib/python3.6/dist-packages (from requests->googletrans) (2019.11.28)\n"
          ],
          "name": "stdout"
        }
      ]
    },
    {
      "cell_type": "code",
      "metadata": {
        "id": "BMwCkFHG9sra",
        "colab_type": "code",
        "colab": {}
      },
      "source": [
        "from googletrans import Translator\n",
        "import pandas as pd\n"
      ],
      "execution_count": 0,
      "outputs": []
    },
    {
      "cell_type": "code",
      "metadata": {
        "id": "2RQLng2hBfLo",
        "colab_type": "code",
        "colab": {}
      },
      "source": [
        "translator = Translator()"
      ],
      "execution_count": 0,
      "outputs": []
    },
    {
      "cell_type": "code",
      "metadata": {
        "id": "eefSMJWs92wX",
        "colab_type": "code",
        "colab": {}
      },
      "source": [
        "data = pd.read_excel(\"baslik.xlsx\")"
      ],
      "execution_count": 0,
      "outputs": []
    },
    {
      "cell_type": "code",
      "metadata": {
        "id": "HyMKkEt3-EWr",
        "colab_type": "code",
        "outputId": "c8daf3ef-66de-4ad9-b9b1-1c38a6cae4f3",
        "colab": {
          "base_uri": "https://localhost:8080/",
          "height": 204
        }
      },
      "source": [
        "data.head()"
      ],
      "execution_count": 124,
      "outputs": [
        {
          "output_type": "execute_result",
          "data": {
            "text/html": [
              "<div>\n",
              "<style scoped>\n",
              "    .dataframe tbody tr th:only-of-type {\n",
              "        vertical-align: middle;\n",
              "    }\n",
              "\n",
              "    .dataframe tbody tr th {\n",
              "        vertical-align: top;\n",
              "    }\n",
              "\n",
              "    .dataframe thead th {\n",
              "        text-align: right;\n",
              "    }\n",
              "</style>\n",
              "<table border=\"1\" class=\"dataframe\">\n",
              "  <thead>\n",
              "    <tr style=\"text-align: right;\">\n",
              "      <th></th>\n",
              "      <th>comments_tr</th>\n",
              "      <th>comments_eng</th>\n",
              "    </tr>\n",
              "  </thead>\n",
              "  <tbody>\n",
              "    <tr>\n",
              "      <th>0</th>\n",
              "      <td>Ayıplı Mal Satışı</td>\n",
              "      <td>Defective Goods Sales</td>\n",
              "    </tr>\n",
              "    <tr>\n",
              "      <th>1</th>\n",
              "      <td>katı Meyve Sıkacağım Arızalı</td>\n",
              "      <td>Solid Juicer Defective</td>\n",
              "    </tr>\n",
              "    <tr>\n",
              "      <th>2</th>\n",
              "      <td>Bozuk Saç Kurutma Makinesini Değiştirmiyor!</td>\n",
              "      <td>Does Not Replace Broken Hair Dryer!</td>\n",
              "    </tr>\n",
              "    <tr>\n",
              "      <th>3</th>\n",
              "      <td>Çay Makinesi Mağduriyeti, Boyaları Çatlıyor!</td>\n",
              "      <td>Tea Maker Victimization Cracks the Paints!</td>\n",
              "    </tr>\n",
              "    <tr>\n",
              "      <th>4</th>\n",
              "      <td>Servisteki Blenderin Onarım Süresi</td>\n",
              "      <td>Repair Time of Blender in Service</td>\n",
              "    </tr>\n",
              "  </tbody>\n",
              "</table>\n",
              "</div>"
            ],
            "text/plain": [
              "                                      comments_tr                                comments_eng\n",
              "0                               Ayıplı Mal Satışı                       Defective Goods Sales\n",
              "1                    katı Meyve Sıkacağım Arızalı                      Solid Juicer Defective\n",
              "2     Bozuk Saç Kurutma Makinesini Değiştirmiyor!         Does Not Replace Broken Hair Dryer!\n",
              "3    Çay Makinesi Mağduriyeti, Boyaları Çatlıyor!  Tea Maker Victimization Cracks the Paints!\n",
              "4              Servisteki Blenderin Onarım Süresi           Repair Time of Blender in Service"
            ]
          },
          "metadata": {
            "tags": []
          },
          "execution_count": 124
        }
      ]
    },
    {
      "cell_type": "code",
      "metadata": {
        "id": "5XZ1s9zjIxL6",
        "colab_type": "code",
        "colab": {}
      },
      "source": [
        "comments = data.comments_eng"
      ],
      "execution_count": 0,
      "outputs": []
    },
    {
      "cell_type": "code",
      "metadata": {
        "id": "xo22DhxPCli0",
        "colab_type": "code",
        "outputId": "18019881-1092-4eff-c137-1d6ca8e3b22e",
        "colab": {
          "base_uri": "https://localhost:8080/",
          "height": 88
        }
      },
      "source": [
        "!pip install textblob"
      ],
      "execution_count": 126,
      "outputs": [
        {
          "output_type": "stream",
          "text": [
            "Requirement already satisfied: textblob in /usr/local/lib/python3.6/dist-packages (0.15.3)\n",
            "Requirement already satisfied: nltk>=3.1 in /usr/local/lib/python3.6/dist-packages (from textblob) (3.2.5)\n",
            "Requirement already satisfied: six in /usr/local/lib/python3.6/dist-packages (from nltk>=3.1->textblob) (1.12.0)\n"
          ],
          "name": "stdout"
        }
      ]
    },
    {
      "cell_type": "code",
      "metadata": {
        "colab_type": "code",
        "id": "m6k4hwN4Fqld",
        "colab": {}
      },
      "source": [
        "from textblob import TextBlob"
      ],
      "execution_count": 0,
      "outputs": []
    },
    {
      "cell_type": "code",
      "metadata": {
        "id": "NPw4kGooFu5K",
        "colab_type": "code",
        "colab": {}
      },
      "source": [
        "sentiment_scores = list()\n"
      ],
      "execution_count": 0,
      "outputs": []
    },
    {
      "cell_type": "code",
      "metadata": {
        "id": "NPDntOjJKALV",
        "colab_type": "code",
        "colab": {}
      },
      "source": [
        "for i in comments:\n",
        "  sentiment_scores.append(TextBlob(i).sentiment.polarity)\n",
        "  \n",
        "  "
      ],
      "execution_count": 0,
      "outputs": []
    },
    {
      "cell_type": "code",
      "metadata": {
        "id": "-75wAhl-KUTz",
        "colab_type": "code",
        "colab": {}
      },
      "source": [
        "data[\"sentiment_scores\"] = sentiment_scores"
      ],
      "execution_count": 0,
      "outputs": []
    },
    {
      "cell_type": "code",
      "metadata": {
        "id": "H05EA6Od-6i3",
        "colab_type": "code",
        "colab": {}
      },
      "source": [
        "data.to_excel(\"arzum_case.xlsx\")"
      ],
      "execution_count": 0,
      "outputs": []
    },
    {
      "cell_type": "code",
      "metadata": {
        "id": "_NyL0p4Z_Bor",
        "colab_type": "code",
        "colab": {}
      },
      "source": [
        "sentiment_list=list()"
      ],
      "execution_count": 0,
      "outputs": []
    },
    {
      "cell_type": "code",
      "metadata": {
        "id": "30vVI27l_WTb",
        "colab_type": "code",
        "colab": {}
      },
      "source": [
        "for i in range(len(comments)):\n",
        "    if ((TextBlob(comments[i]).sentiment.polarity)<0):\n",
        "        sentiment_list.append(\"Negative\")\n",
        "    elif((TextBlob(comments[i]).sentiment.polarity)>0):\n",
        "        sentiment_list.append(\"Positive\")\n",
        "    else:\n",
        "        sentiment_list.append(\"Neutral\")"
      ],
      "execution_count": 0,
      "outputs": []
    },
    {
      "cell_type": "code",
      "metadata": {
        "id": "Y3AvPQCU_b0-",
        "colab_type": "code",
        "colab": {}
      },
      "source": [
        "sentiment=pd.Series(sentiment_list)"
      ],
      "execution_count": 0,
      "outputs": []
    },
    {
      "cell_type": "code",
      "metadata": {
        "id": "wQCemqiP_etP",
        "colab_type": "code",
        "colab": {}
      },
      "source": [
        "data[\"sentiment\"]=sentiment"
      ],
      "execution_count": 0,
      "outputs": []
    },
    {
      "cell_type": "code",
      "metadata": {
        "id": "S79XhHO3_g4S",
        "colab_type": "code",
        "colab": {}
      },
      "source": [
        "data.to_excel(\"arzum_case.xlsx\")"
      ],
      "execution_count": 0,
      "outputs": []
    },
    {
      "cell_type": "markdown",
      "metadata": {
        "id": "xPSmiIT4_xMG",
        "colab_type": "text"
      },
      "source": [
        "\n",
        "\n",
        "```\n",
        "# Vader\n",
        "```\n",
        "\n"
      ]
    },
    {
      "cell_type": "code",
      "metadata": {
        "id": "qwxPSnoJ_wgk",
        "colab_type": "code",
        "colab": {
          "base_uri": "https://localhost:8080/",
          "height": 105
        },
        "outputId": "a4e846c2-a420-4917-956b-b4b25d6a9373"
      },
      "source": [
        "!pip install vaderSentiment\n",
        "import nltk\n",
        "from vaderSentiment.vaderSentiment import SentimentIntensityAnalyzer\n",
        "nltk.download(\"vader_lexicon\")"
      ],
      "execution_count": 137,
      "outputs": [
        {
          "output_type": "stream",
          "text": [
            "Requirement already satisfied: vaderSentiment in /usr/local/lib/python3.6/dist-packages (3.2.1)\n",
            "[nltk_data] Downloading package vader_lexicon to /root/nltk_data...\n",
            "[nltk_data]   Package vader_lexicon is already up-to-date!\n"
          ],
          "name": "stdout"
        },
        {
          "output_type": "execute_result",
          "data": {
            "text/plain": [
              "True"
            ]
          },
          "metadata": {
            "tags": []
          },
          "execution_count": 137
        }
      ]
    },
    {
      "cell_type": "code",
      "metadata": {
        "id": "pfY2y4nOAFaR",
        "colab_type": "code",
        "colab": {}
      },
      "source": [
        "sid = SentimentIntensityAnalyzer()"
      ],
      "execution_count": 0,
      "outputs": []
    },
    {
      "cell_type": "code",
      "metadata": {
        "id": "0YKQrTPH-aAK",
        "colab_type": "code",
        "colab": {}
      },
      "source": [
        "def sentiment_analyzer_scores(sentence):\n",
        "    score = sid.polarity_scores(sentence)\n",
        "    return score"
      ],
      "execution_count": 0,
      "outputs": []
    },
    {
      "cell_type": "code",
      "metadata": {
        "id": "4aUPDYQ1Ai4q",
        "colab_type": "code",
        "colab": {}
      },
      "source": [
        "sentiment_scores=list()\n",
        "for line in comments:\n",
        "    sentiment_scores.append(sentiment_analyzer_scores(line))"
      ],
      "execution_count": 0,
      "outputs": []
    },
    {
      "cell_type": "code",
      "metadata": {
        "id": "3frlLX8eAnTN",
        "colab_type": "code",
        "colab": {}
      },
      "source": [
        "data[\"vader_sentiment_scores\"]=sentiment_scores\n",
        "data.to_excel(\"arzum_case.xlsx\")"
      ],
      "execution_count": 0,
      "outputs": []
    },
    {
      "cell_type": "code",
      "metadata": {
        "id": "eD79bXeSAwOs",
        "colab_type": "code",
        "colab": {}
      },
      "source": [
        "sentiment_category = list()\n",
        "for score in sentiment_scores:\n",
        "    if(score[\"compound\"]>0):\n",
        "        sentiment_category.append(\"positive\")\n",
        "    elif(score[\"compound\"]<=0):\n",
        "        sentiment_category.append(\"negative\")"
      ],
      "execution_count": 0,
      "outputs": []
    },
    {
      "cell_type": "code",
      "metadata": {
        "id": "Zzg0nEdTAzgI",
        "colab_type": "code",
        "colab": {}
      },
      "source": [
        "data[\"vader_sentiment\"]=sentiment_category\n",
        "data.to_excel(\"arzum_case.xlsx\")"
      ],
      "execution_count": 0,
      "outputs": []
    }
  ]
}