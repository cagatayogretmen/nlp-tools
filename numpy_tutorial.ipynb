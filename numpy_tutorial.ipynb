{
  "nbformat": 4,
  "nbformat_minor": 0,
  "metadata": {
    "colab": {
      "name": "Untitled1.ipynb",
      "provenance": [],
      "collapsed_sections": [],
      "authorship_tag": "ABX9TyNZ0PjNuo0nSoljt27LrLUE",
      "include_colab_link": true
    },
    "kernelspec": {
      "name": "python3",
      "display_name": "Python 3"
    }
  },
  "cells": [
    {
      "cell_type": "markdown",
      "metadata": {
        "id": "view-in-github",
        "colab_type": "text"
      },
      "source": [
        "<a href=\"https://colab.research.google.com/github/cagatayogretmen/nlp-tools/blob/master/numpy_tutorial.ipynb\" target=\"_parent\"><img src=\"https://colab.research.google.com/assets/colab-badge.svg\" alt=\"Open In Colab\"/></a>"
      ]
    },
    {
      "cell_type": "code",
      "metadata": {
        "id": "BmvaVURYaphB",
        "colab_type": "code",
        "colab": {}
      },
      "source": [
        "#NUMPY SATIR ÖNCELİĞİ\n",
        "\n",
        "a = [1,2,3]\n",
        "b = [4,5,6]\n",
        "a\n",
        "b #böyle bir durumda en son satır çalışır. yani sadece b dikkate alındı "
      ],
      "execution_count": 0,
      "outputs": []
    },
    {
      "cell_type": "code",
      "metadata": {
        "id": "B9SJfzE7bg0u",
        "colab_type": "code",
        "colab": {
          "base_uri": "https://localhost:8080/",
          "height": 34
        },
        "outputId": "8b07e9e1-1285-48b2-ebe6-5992562ad103"
      },
      "source": [
        "#NUMPY ARRAY OLUŞTURMA\n",
        "\n",
        "import numpy as np\n",
        "a = np.array([1,2,3])\n",
        "b = np.array([4,5,6])\n",
        "\n",
        "type(a) \n",
        "\n",
        "a*b #numpy matris çarpımını kolayca yapmamızı sağlar\n",
        "#numpy pythonun listelerindeki her değer için değer tutmasına karşın bir arrayde genel bir bilgi tutar, bu yüzden hızlıdır, az yer harcar"
      ],
      "execution_count": 2,
      "outputs": [
        {
          "output_type": "execute_result",
          "data": {
            "text/plain": [
              "array([ 4, 10, 18])"
            ]
          },
          "metadata": {
            "tags": []
          },
          "execution_count": 2
        }
      ]
    },
    {
      "cell_type": "code",
      "metadata": {
        "id": "Nef7epW3cHBM",
        "colab_type": "code",
        "colab": {
          "base_uri": "https://localhost:8080/",
          "height": 34
        },
        "outputId": "4b9d437b-22f8-4ec4-e34c-32d0b1006508"
      },
      "source": [
        "#ELEMANLARI İÇİN SABİT BİLGİ TUTMA\n",
        "\n",
        "a = np.array([1, 2.3, 4, 5.6]) #numpy elemanları sabit şekle sokar o yüzden hepsini floata çevirdi\n",
        "\n",
        "b = np.array([1, 2.3, 4], dtype=\"int\") #elemanların biçimini int belirledik"
      ],
      "execution_count": 5,
      "outputs": [
        {
          "output_type": "execute_result",
          "data": {
            "text/plain": [
              "array([1, 2, 4])"
            ]
          },
          "metadata": {
            "tags": []
          },
          "execution_count": 5
        }
      ]
    },
    {
      "cell_type": "code",
      "metadata": {
        "id": "Im2TZAfndDhh",
        "colab_type": "code",
        "colab": {}
      },
      "source": [
        "#OTOMATİK MATRİSLER OLUŞTURMA\n",
        "\n",
        "a = np.zeros(10, dtype=int)\n",
        "b = np.ones((3,5) dtype=int) #3 satır 5 sütunluk tüm elemanları 1 olan matris\n",
        "c = np.full((3,5), 8) #3 satır 5 sütunluk tüm elemanları 8 olan matrix\n",
        "d = np.arange(0, 31, 3) #0'dan 31'e kadar 3er 3er artan dizi\n",
        "e = np.linspace(0,1,10) #0 ile 1 arasında 10 elemanları matrix\n",
        "f = np.random.normal(10, 4, (3,5)) #ortalaması 10 s.s'si 4 3,5 lik matris \n",
        "g = np.random.randint(0,10, (3,5)) #3e 5lik 0 10 arası rastgele değer almış matrix \n",
        "#tek boyutlu array:vektör\n",
        "#iki boyutlu vektör:matris\n",
        "\n"
      ],
      "execution_count": 0,
      "outputs": []
    },
    {
      "cell_type": "code",
      "metadata": {
        "id": "0RYk-dSC7vBU",
        "colab_type": "code",
        "colab": {
          "base_uri": "https://localhost:8080/",
          "height": 34
        },
        "outputId": "21fa54a3-2a9c-4559-e3eb-7a220b0021f8"
      },
      "source": [
        "#TEK BOYUTLU ARRAY İŞLEMLERİ\n",
        "\n",
        "a = np.random.randint(10, size=10) #0-10 arası size:eleman sayısı\n",
        "a.ndim #dimension:kaç boyutlu olduğunu gösterir : 1 döndürür\n",
        "a.shape #boyut bilgisi verir :(10, ) döndürür\n",
        "a.size #içindeki toplam eleman sayısı :10 döndürür\n",
        "a.dtype #arrayin içindeki elemanların tipini verir: int64 döndürür\n",
        "\n",
        "#İKİ BOYUTLU ARRAY İŞLEMLERİ\n",
        "\n",
        "b = np.random.randint(10, size=(3,5))\n",
        "b.ndim #2 boyutludur\n",
        "b.shape #(3,5)\n",
        "b.size # 15:toplam eleman sayısı"
      ],
      "execution_count": 3,
      "outputs": [
        {
          "output_type": "execute_result",
          "data": {
            "text/plain": [
              "2"
            ]
          },
          "metadata": {
            "tags": []
          },
          "execution_count": 3
        }
      ]
    },
    {
      "cell_type": "code",
      "metadata": {
        "id": "-gxJAg8H9nn-",
        "colab_type": "code",
        "colab": {}
      },
      "source": [
        "#RESHAPING(YENİDEN BİÇİMLENDİRME)\n",
        "\n",
        "a = np.arange(1,10)\n",
        "print(a)\n",
        "b = a.reshape((3,3))\n",
        "print(b)\n",
        "\n",
        "#a tek boyutlu bir vektördür fakat bunu matrise çevirebiliriz\n",
        "c = a.reshape((1,9)) #köşeli parentez 2 adet olur çünkü boyutu 2ye çıktı\n",
        "print('cnin boyutu:',c.ndim)\n",
        "print(c)\n",
        "\n"
      ],
      "execution_count": 0,
      "outputs": []
    },
    {
      "cell_type": "code",
      "metadata": {
        "id": "T4j7pTovAg2l",
        "colab_type": "code",
        "colab": {}
      },
      "source": [
        "#CONCENATION(BİRLEŞTİRME)\n",
        "\n",
        "a = np.array([1,2,3])\n",
        "b = np.array(['x','y','z'])\n",
        "\n",
        "c = np.concatenate([a,b])\n",
        "\n",
        "#2 BOYUTTA BİRLEŞTİRME\n",
        "\n",
        "a = np.array([[1,2,3], \n",
        "              [4,5,6]])\n",
        "\n",
        "d = np.concatenate([a,a]) #satır bazında alta doğru birleştirir çünkü default axis = 0 parametrelidir\n",
        "print(d) \n",
        "\n",
        "e = np.concatenate([a,a], axis=1) #yana doğru yandan sütunsal birleştirme yapar\n",
        "print(e)"
      ],
      "execution_count": 0,
      "outputs": []
    },
    {
      "cell_type": "code",
      "metadata": {
        "id": "BtH5d28wCM1p",
        "colab_type": "code",
        "colab": {}
      },
      "source": [
        "#SPLITTING(ARRAY AYIRMA)\n",
        "\n",
        "x =np.array([1,2,3,4,5,6,7,8])\n",
        "\n",
        "y = np.split(x, [3,6]) #3.elemana ve 6.elemana kadar x arrayini ayır\n",
        "print(y)\n",
        "\n",
        "a,b,c = np.split(x, [3,6]) #böylece a,b,c ye böldüğümüz arrayleri atadık)\n",
        "\n",
        "#2 BOYUTLU AYIRMA\n",
        "\n",
        "m = np.arange(16).reshape(4,4)\n",
        "print('m:', m)\n",
        "\n",
        "#VSPLIT(satırsal bölme) \n",
        "np.vsplit(m, [3]) #3.satır elemanından sonrayı böl\n",
        "\n",
        "ust,alt = np.vsplit(m, [3])\n",
        "\n",
        "print('ust:',ust)\n",
        "print('alt:',alt)\n",
        "\n",
        "#HSPLIT(sütunsal bölme)\n",
        "\n",
        "sag, sol = np.hsplit(m, [2])\n",
        "print('sol:',sag)\n",
        "print('sag:',sol)\n",
        "\n"
      ],
      "execution_count": 0,
      "outputs": []
    },
    {
      "cell_type": "code",
      "metadata": {
        "id": "UWFQDaA9Gj9w",
        "colab_type": "code",
        "colab": {}
      },
      "source": [
        "#SORTING(SIRALAMA)\n",
        "\n",
        "v = np.array([1,5,3,2,9,5,1,5])\n",
        "\n",
        "np.sort(v)\n",
        "\n",
        "v.sort() #python gömülü fonksiyonu numpy değil yapısını bozar\n",
        "\n",
        "m = np.random.normal(20,5, (3,3))\n",
        "print(m)\n",
        "a = np.sort(m, axis=1) # her satırı kendi içinde sıralamış\n",
        "print(a)\n",
        "b = np.sort(m, axis=0) #her sütunu kendi içinde sıralamış\n",
        "print(b)\n",
        "\n"
      ],
      "execution_count": 0,
      "outputs": []
    },
    {
      "cell_type": "code",
      "metadata": {
        "id": "pWRA6kIsIaiJ",
        "colab_type": "code",
        "colab": {}
      },
      "source": [
        "#INDEX İŞLEMLERİ\n",
        "\n",
        "m = np.random.randint(20, size=(3,6))\n",
        "print(m)\n",
        "\n",
        "m[2,0]\n",
        "m[2,4] = 20\n",
        "\n",
        "print(m)\n",
        "\n",
        "m[2,4] = 20.89 #20 olarak değiştirir çünkü arrayin yapısı int di\n",
        "#!eğer en başta 20.89 içeren değerimiz olsaydı tüm array float tipinde olacaktı\n",
        "print(m)\n",
        "\n"
      ],
      "execution_count": 0,
      "outputs": []
    },
    {
      "cell_type": "code",
      "metadata": {
        "id": "RumpSJpDJ4FF",
        "colab_type": "code",
        "colab": {
          "base_uri": "https://localhost:8080/",
          "height": 153
        },
        "outputId": "48b8d369-5ca8-4d32-c290-494205dd2294"
      },
      "source": [
        "#SLICING\n",
        "\n",
        "#TEK BOYUTLU\n",
        "\n",
        "a = np.arange(20,30)\n",
        "print(a)\n",
        "\n",
        "a[0::3] #0.indexden başlayıp 3er 3er gider\n",
        "\n",
        "#2 BOYUTLU\n",
        "\n",
        "m = np.random.randint(10, size=(5,5))\n",
        "print(m)\n",
        "\n",
        "m[:,0] #m[satır aralığı, sütun aralığı] :[tüm satırlar, 0.sütun]\n",
        "m[2, :] #satır seçtik\n",
        "\n",
        "m[0:2, 1:3]"
      ],
      "execution_count": 64,
      "outputs": [
        {
          "output_type": "stream",
          "text": [
            "[20 21 22 23 24 25 26 27 28 29]\n",
            "[[2 3 3 4 6]\n",
            " [5 9 6 2 4]\n",
            " [6 8 2 2 6]\n",
            " [6 6 0 6 1]\n",
            " [0 4 2 0 2]]\n"
          ],
          "name": "stdout"
        },
        {
          "output_type": "execute_result",
          "data": {
            "text/plain": [
              "array([[3],\n",
              "       [9]])"
            ]
          },
          "metadata": {
            "tags": []
          },
          "execution_count": 64
        }
      ]
    },
    {
      "cell_type": "code",
      "metadata": {
        "id": "Sb97UscrKJhh",
        "colab_type": "code",
        "colab": {}
      },
      "source": [
        "#ALT KÜME ÜZERİNDE İŞLEM YAPMAK\n",
        "\n",
        "#arrayların alt kümeleri üzerinde yaptığımız işlemler farklı değişkene kaydolsa da ana arrayin elemanlarını değiştirir\n",
        "\n",
        "a = np.random.randint(10, size = (5,5))\n",
        "\n",
        "alt_kume = a[0:3, 1:3]\n",
        "\n",
        "alt_kume[1,1] = 90\n",
        "alt_kume[0,1] = 30 #bu değişilkleri alt_kume ye yapmamıza rağmen a arrayının elemanlarını değiştirdi\n",
        "\n",
        "\n",
        "alt_kume_2 = a[0:3, 1:3].copy() #böylece işlemler sadece bu array için olacaktır"
      ],
      "execution_count": 0,
      "outputs": []
    },
    {
      "cell_type": "code",
      "metadata": {
        "id": "8LMsQSmwEslv",
        "colab_type": "code",
        "colab": {
          "base_uri": "https://localhost:8080/",
          "height": 119
        },
        "outputId": "3ab858ce-280b-48af-b4a6-28d830f60f1b"
      },
      "source": [
        "#FANCY INDEX İLE ELEMANLARA ERİŞMEK\n",
        "\n",
        "v = np.arange(0,30,3)\n",
        "\n",
        "v[1]\n",
        "v[5]\n",
        "v[7] #gibi v vektörünün elemanlarına erişiyoruz. bu erişmeleri toplu olarak otomatikçe fancy index ile yaparız\n",
        "\n",
        "al_getir = [1,5,7]\n",
        "\n",
        "v[al_getir] #ile hepsini getirir\n",
        "\n",
        "\n",
        "#2 BOYUTLU MATRİXTE FANCY INDEX\n",
        "\n",
        "m = np.arange(9).reshape((3,3))\n",
        "print(m)\n",
        "\n",
        "satir = np.array([0,1])\n",
        "sutun = np.array([1,2])\n",
        "\n",
        "m[satir, sutun]\n",
        "\n",
        "#slice ile fancy\n",
        "\n",
        "m[0:, [1,2]]\n"
      ],
      "execution_count": 19,
      "outputs": [
        {
          "output_type": "stream",
          "text": [
            "[[0 1 2]\n",
            " [3 4 5]\n",
            " [6 7 8]]\n"
          ],
          "name": "stdout"
        },
        {
          "output_type": "execute_result",
          "data": {
            "text/plain": [
              "array([[1, 2],\n",
              "       [4, 5],\n",
              "       [7, 8]])"
            ]
          },
          "metadata": {
            "tags": []
          },
          "execution_count": 19
        }
      ]
    },
    {
      "cell_type": "code",
      "metadata": {
        "id": "elGjFWgvLOhU",
        "colab_type": "code",
        "colab": {
          "base_uri": "https://localhost:8080/",
          "height": 51
        },
        "outputId": "9c7d6709-a294-4226-eb25-81d365d85154"
      },
      "source": [
        "#KOŞULLUR ELEMAN İŞLEMLERİ\n",
        "\n",
        "v = np.array([1,2,3,4,5])\n",
        "\n",
        "print(v<5) #v nin elemanlarını koşula göre true false döndürür\n",
        "\n",
        "#sorguyu sağlayan değerleri alma\n",
        "\n",
        "v[v<3]\n",
        "\n",
        "v[v!=2] #2nin dışında kalanları getir"
      ],
      "execution_count": 22,
      "outputs": [
        {
          "output_type": "stream",
          "text": [
            "[ True  True  True  True False]\n"
          ],
          "name": "stdout"
        },
        {
          "output_type": "execute_result",
          "data": {
            "text/plain": [
              "array([1, 3, 4, 5])"
            ]
          },
          "metadata": {
            "tags": []
          },
          "execution_count": 22
        }
      ]
    },
    {
      "cell_type": "code",
      "metadata": {
        "id": "U18avQEaMVyd",
        "colab_type": "code",
        "colab": {
          "base_uri": "https://localhost:8080/",
          "height": 34
        },
        "outputId": "663e13c4-5a33-49d9-8f24-2d1352502fb6"
      },
      "source": [
        "#MATEMATİKSEL İŞLEMLER\n",
        "\n",
        "v = np.array([1,2,3,4,5,6,7])\n",
        "\n",
        "v*3 #tüm elemanları 3 ile çarpar\n",
        "v/3 #tüm elemanları 3 ile böler\n",
        "\n",
        "np.divide(v,3) #aslında arkada çalışan fonksiyonlar hep böyledir\n",
        "np.multiply(v,2) #çarpma\n",
        "np.power(v,4) #tüm elemanların 4.dereceden kuvvetini alır\n",
        "np.mod(v,2) #tüm elemanların 2 ye böümünden kalan sayıdır\n",
        "\n",
        "#trigonometrik işlemler\n",
        "\n",
        "np.sin(360)\n",
        "np.cos(180)\n",
        "\n",
        "#logaritma\n",
        "np.log2(v)\n",
        "\n",
        "#aramalar yaparken cheat sheet olarak aramak avantajlı\n",
        "\n",
        "#istatistik\n",
        "\n",
        "np.mean(v)\n",
        "np.sum(v)\n",
        "np.min(v)\n",
        "np.max(v)"
      ],
      "execution_count": 35,
      "outputs": [
        {
          "output_type": "execute_result",
          "data": {
            "text/plain": [
              "7"
            ]
          },
          "metadata": {
            "tags": []
          },
          "execution_count": 35
        }
      ]
    },
    {
      "cell_type": "code",
      "metadata": {
        "id": "EEvnoHuVPLvs",
        "colab_type": "code",
        "colab": {
          "base_uri": "https://localhost:8080/",
          "height": 34
        },
        "outputId": "7db7838f-cec0-42ff-e9ba-a6e2c5edf561"
      },
      "source": [
        "#İKİ BİLİNMEYENLİ DENKLEM ÇÖZME\n",
        "\n",
        "# 2.x1 + 3.x2 = 18\n",
        "# 4.x1 + 5.x2 = 32 denklemini çözecez \n",
        "\n",
        "a = np.array([[2,3], [4,5]])\n",
        "b = np.array([18,32])\n",
        "\n",
        "x = np.linalg.solve(a,b)\n",
        "print(x)\n",
        "\n"
      ],
      "execution_count": 39,
      "outputs": [
        {
          "output_type": "execute_result",
          "data": {
            "text/plain": [
              "array([3., 4.])"
            ]
          },
          "metadata": {
            "tags": []
          },
          "execution_count": 39
        }
      ]
    }
  ]
}