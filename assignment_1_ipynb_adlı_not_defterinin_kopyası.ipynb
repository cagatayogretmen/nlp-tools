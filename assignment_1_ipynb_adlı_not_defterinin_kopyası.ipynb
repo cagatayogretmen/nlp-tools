{
  "nbformat": 4,
  "nbformat_minor": 0,
  "metadata": {
    "colab": {
      "name": "assignment_1.ipynb adlı not defterinin kopyası",
      "provenance": [],
      "collapsed_sections": []
    },
    "kernelspec": {
      "name": "python3",
      "display_name": "Python 3"
    },
    "language_info": {
      "name": "python"
    }
  },
  "cells": [
    {
      "cell_type": "code",
      "source": [
        "#library imports\n",
        "import pandas as pd\n",
        "import numpy as np\n",
        "import glob\n",
        "import nltk\n",
        "from nltk.tokenize import word_tokenize\n",
        "from nltk.corpus import stopwords\n",
        "from sklearn.feature_extraction.text import CountVectorizer, TfidfVectorizer\n",
        "from sklearn.feature_selection import RFE\n",
        "from sklearn.linear_model import LogisticRegression\n",
        "from sklearn.tree import DecisionTreeClassifier\n",
        "from sklearn.ensemble import RandomForestClassifier\n",
        "from sklearn.metrics import accuracy_score,classification_report\n",
        "from sklearn.model_selection import KFold, cross_val_score, StratifiedKFold,train_test_split\n",
        "from numpy import mean\n",
        "from numpy import std\n",
        "import warnings\n",
        "warnings.filterwarnings('always')\n",
        "warnings.filterwarnings(\"ignore\")\n",
        "nltk.download('punkt')\n",
        "nltk.download('stopwords')\n",
        "nltk.download('wordnet')"
      ],
      "metadata": {
        "id": "akzsY7zRsQp5",
        "colab": {
          "base_uri": "https://localhost:8080/"
        },
        "outputId": "af4be84d-8d3c-4e1e-c692-fcbf37dc9925"
      },
      "execution_count": null,
      "outputs": [
        {
          "output_type": "stream",
          "name": "stdout",
          "text": [
            "[nltk_data] Downloading package punkt to /root/nltk_data...\n",
            "[nltk_data]   Package punkt is already up-to-date!\n",
            "[nltk_data] Downloading package stopwords to /root/nltk_data...\n",
            "[nltk_data]   Package stopwords is already up-to-date!\n",
            "[nltk_data] Downloading package wordnet to /root/nltk_data...\n",
            "[nltk_data]   Package wordnet is already up-to-date!\n"
          ]
        },
        {
          "output_type": "execute_result",
          "data": {
            "text/plain": [
              "True"
            ]
          },
          "metadata": {},
          "execution_count": 55
        }
      ]
    },
    {
      "cell_type": "code",
      "source": [
        "#Assigning the names of txt files in folders to the list\n",
        "txtfiles_MIS = []\n",
        "txtfiles_PHIL = []\n",
        "txtfiles_UNLABELED = []\n",
        "\n",
        "for file in glob.glob(\"MIS/*txt\"):\n",
        "  txtfiles_MIS.append(file)\n",
        "for file in glob.glob(\"PHIL/*txt\"):\n",
        "  txtfiles_PHIL.append(file)\n",
        "for file in glob.glob(\"UNLABELED/*txt\"):\n",
        "  txtfiles_UNLABELED.append(file)"
      ],
      "metadata": {
        "id": "LHZL4T61unpi"
      },
      "execution_count": null,
      "outputs": []
    },
    {
      "cell_type": "code",
      "source": [
        "#Opening the list of received text file names and transferring the content to the list\n",
        "content_MIS = []\n",
        "content_PHIL = []\n",
        "content_UNLABELED = []\n",
        "\n",
        "for document in txtfiles_MIS:\n",
        "  with open(\"{}\".format(document),\"r\",encoding= 'unicode_escape') as f:\n",
        "    lines = f.read()\n",
        "    content_MIS.append(lines)\n",
        "\n",
        "for document in txtfiles_PHIL:\n",
        "  with open(\"{}\".format(document),\"r\",encoding= 'unicode_escape') as f:\n",
        "    lines = f.read()\n",
        "    content_PHIL.append(lines)\n",
        "\n",
        "for document in txtfiles_UNLABELED:\n",
        "  with open(\"{}\".format(document),\"r\",encoding= 'unicode_escape') as f:\n",
        "    lines = f.read()\n",
        "    content_UNLABELED.append(lines)"
      ],
      "metadata": {
        "id": "bmOPSe8xv2k8"
      },
      "execution_count": null,
      "outputs": []
    },
    {
      "cell_type": "code",
      "source": [
        "#creating dataframes\n",
        "MIS = 0\n",
        "PHIL = 1\n",
        "\n",
        "df_MIS = pd.DataFrame(content_MIS)\n",
        "df_MIS[\"Label\"] = MIS\n",
        "df_MIS.columns = [\"Sentence\",\"Label\"]   \n",
        "\n",
        "df_PHIL = pd.DataFrame(content_PHIL)\n",
        "df_PHIL[\"Label\"] = PHIL\n",
        "df_PHIL.columns = [\"Sentence\",\"Label\"]\n",
        "\n",
        "df_UNLABELED = pd.DataFrame(content_UNLABELED)\n",
        "df_UNLABELED.columns = [\"Sentence\"]"
      ],
      "metadata": {
        "id": "nb72NH4jzElI"
      },
      "execution_count": null,
      "outputs": []
    },
    {
      "cell_type": "code",
      "source": [
        "#dataframe concatenation\n",
        "df = pd.concat([df_MIS,df_PHIL])\n",
        "df = df.reset_index()\n",
        "df = df.drop(['index'], axis = 1)"
      ],
      "metadata": {
        "id": "qeFVrTKq25vB"
      },
      "execution_count": null,
      "outputs": []
    },
    {
      "cell_type": "code",
      "source": [
        "X = df[\"Sentence\"]\n",
        "y = df[\"Label\"]\n",
        "UNLABELED = df_UNLABELED[\"Sentence\"]"
      ],
      "metadata": {
        "id": "glEczodHyuD7"
      },
      "execution_count": null,
      "outputs": []
    },
    {
      "cell_type": "code",
      "source": [
        "#removing of English stopwords\n",
        "stop_words: list = stopwords.words('english')"
      ],
      "metadata": {
        "id": "krwBwisTuZsl"
      },
      "execution_count": null,
      "outputs": []
    },
    {
      "cell_type": "code",
      "source": [
        "#getting stopwords from text file\n",
        "with open('StopwordsDict.txt') as file_in:\n",
        "    StopwordsDict = []\n",
        "    for line in file_in:\n",
        "      StopwordsDict.append(line[:-1])"
      ],
      "metadata": {
        "id": "kJExuuF78W6z"
      },
      "execution_count": null,
      "outputs": []
    },
    {
      "cell_type": "code",
      "source": [
        "StopwordsDict"
      ],
      "metadata": {
        "id": "gWXbfkDR48Ra",
        "colab": {
          "base_uri": "https://localhost:8080/"
        },
        "outputId": "59f59650-c051-447d-bfe3-9f775203dd25"
      },
      "execution_count": null,
      "outputs": [
        {
          "output_type": "execute_result",
          "data": {
            "text/plain": [
              "['(3+1+0)',\n",
              " '(3+2+0)',\n",
              " 'an',\n",
              " 'and',\n",
              " 'to',\n",
              " 'of',\n",
              " 'is',\n",
              " 'the',\n",
              " 'am',\n",
              " 'I',\n",
              " 'or',\n",
              " 'in',\n",
              " 'a',\n",
              " 'by',\n",
              " 'from']"
            ]
          },
          "metadata": {},
          "execution_count": 63
        }
      ]
    },
    {
      "cell_type": "code",
      "source": [
        "#removing StopwordsDict\n",
        "X = X.apply(lambda x: ' '.join([word for word in x.split() if word not in (StopwordsDict)]))"
      ],
      "metadata": {
        "id": "LjedE_dA4x6q"
      },
      "execution_count": null,
      "outputs": []
    },
    {
      "cell_type": "code",
      "source": [
        "#removing english stopwords from sentences\n",
        "X = X.apply(lambda x: ' '.join([word for word in x.split() if word not in (stop_words)]))"
      ],
      "metadata": {
        "id": "tS-nVRk0n9OV"
      },
      "execution_count": null,
      "outputs": []
    },
    {
      "cell_type": "code",
      "source": [
        "#lowercase\n",
        "X = X.str.lower()"
      ],
      "metadata": {
        "id": "FnXbxbK04FAN"
      },
      "execution_count": null,
      "outputs": []
    },
    {
      "cell_type": "code",
      "source": [
        "#stopwords işleminden sonra\n",
        "X = X.str.replace('[^\\w\\s]','')"
      ],
      "metadata": {
        "id": "7ubKoRC68WhY"
      },
      "execution_count": null,
      "outputs": []
    },
    {
      "cell_type": "code",
      "source": [
        "#lemmatization\n",
        "\n",
        "'''\n",
        "w_tokenizer = nltk.tokenize.WhitespaceTokenizer()\n",
        "lemmatizer = nltk.stem.WordNetLemmatizer()\n",
        "\n",
        "def lemmatize_text(text):\n",
        "    return [lemmatizer.lemmatize(w) for w in w_tokenizer.tokenize(text)]\n",
        "\n",
        "X_tokenized = X.apply(lemmatize_text)\n",
        "'''"
      ],
      "metadata": {
        "id": "Mx2ltJkvY8pj",
        "colab": {
          "base_uri": "https://localhost:8080/",
          "height": 54
        },
        "outputId": "2bfc78af-acf3-4588-9fc8-62c046cb611b"
      },
      "execution_count": null,
      "outputs": [
        {
          "output_type": "execute_result",
          "data": {
            "application/vnd.google.colaboratory.intrinsic+json": {
              "type": "string"
            },
            "text/plain": [
              "'\\nw_tokenizer = nltk.tokenize.WhitespaceTokenizer()\\nlemmatizer = nltk.stem.WordNetLemmatizer()\\n\\ndef lemmatize_text(text):\\n    return [lemmatizer.lemmatize(w) for w in w_tokenizer.tokenize(text)]\\n\\nX_tokenized = X.apply(lemmatize_text)\\n'"
            ]
          },
          "metadata": {},
          "execution_count": 68
        }
      ]
    },
    {
      "cell_type": "code",
      "source": [
        "df[\"Sentence\"][6]"
      ],
      "metadata": {
        "id": "xOZ6EcJq2NEW",
        "colab": {
          "base_uri": "https://localhost:8080/",
          "height": 73
        },
        "outputId": "4c7d726a-5e69-435e-b2ce-90c371b0f8af"
      },
      "execution_count": null,
      "outputs": [
        {
          "output_type": "execute_result",
          "data": {
            "application/vnd.google.colaboratory.intrinsic+json": {
              "type": "string"
            },
            "text/plain": [
              "'Object Oriented Programming   (3+0+2) 4 ECTS 6\\nFundamentals of object oriented programming; objects, data abstraction, data encapsulation, inheritance, and polymorphism. Exception handling. Graphical user interface programming. Database connection. Multithreading. Program development with object oriented design.'"
            ]
          },
          "metadata": {},
          "execution_count": 69
        }
      ]
    },
    {
      "cell_type": "code",
      "source": [
        "#an example of structured data (no stopwords, no punctuation, all letters are lowercase, stopwords was applied(english and stopwordsDict.txt))\n",
        "X[6]"
      ],
      "metadata": {
        "colab": {
          "base_uri": "https://localhost:8080/",
          "height": 54
        },
        "id": "nU8syxh2ycRp",
        "outputId": "b3fb673e-5766-436b-aa3d-52c9cb7e8016"
      },
      "execution_count": null,
      "outputs": [
        {
          "output_type": "execute_result",
          "data": {
            "application/vnd.google.colaboratory.intrinsic+json": {
              "type": "string"
            },
            "text/plain": [
              "'object oriented programming 302 4 ects 6 fundamentals object oriented programming objects data abstraction data encapsulation inheritance polymorphism exception handling graphical user interface programming database connection multithreading program development object oriented design'"
            ]
          },
          "metadata": {},
          "execution_count": 70
        }
      ]
    },
    {
      "cell_type": "code",
      "source": [
        "  def train_evaluate_model(type_of_vectorization,gram_value_1,gram_value_2,algorithm_name):\n",
        "  print(\"******************Model*******************************\")\n",
        "  print(type_of_vectorization,gram_value_1,gram_value_2,algorithm_name)\n",
        "  #task1\n",
        "  X_train, X_test, y_train, y_test = train_test_split(X, y, test_size=0.33, random_state=42)\n",
        "  \n",
        "  vectorizer_1 = type_of_vectorization(ngram_range=(gram_value_1,gram_value_2))\n",
        "  vectorizer_1.fit(X_train)\n",
        "  print(\"******************Number of Features******************\")\n",
        "  print(f\"Amount of feature: {len(vectorizer_1.get_feature_names_out())}\")\n",
        "    \n",
        "  X_train = vectorizer_1.transform(X_train)\n",
        "  X_test = vectorizer_1.transform(X_test)\n",
        "\n",
        "  model_1 = algorithm_name()\n",
        "  model_1.fit(X_train, y_train)\n",
        "\n",
        "  y_pred_test = model_1.predict(X_test)\n",
        "  print(\"******************Classification Report***************\")\n",
        "  acc_test = accuracy_score(y_test, y_pred_test)\n",
        "  cls_rep = classification_report(y_test, y_pred_test)\n",
        "  print(cls_rep)\n",
        "  print(f\"Model performance on the TEST DATA is: {acc_test}\")\n",
        "  print(\"******************Evaluation of Model*****************\")\n",
        "  cv = KFold(n_splits=3, random_state=1, shuffle=True)\n",
        "  scores = cross_val_score(model_1, X_train, y_train, scoring='accuracy', cv=cv, n_jobs=-1)\n",
        "  print('Accuracy:', mean(scores))\n"
      ],
      "metadata": {
        "id": "5vvzYL3SylkW"
      },
      "execution_count": null,
      "outputs": []
    },
    {
      "cell_type": "code",
      "source": [
        "List = [\n",
        "         [TfidfVectorizer,1,1,DecisionTreeClassifier],\n",
        "         [TfidfVectorizer,2,2,DecisionTreeClassifier],\n",
        "         [CountVectorizer,1,1,DecisionTreeClassifier],\n",
        "         [CountVectorizer,2,2,DecisionTreeClassifier],\n",
        "\n",
        "         [TfidfVectorizer,1,1,LogisticRegression],\n",
        "         [TfidfVectorizer,2,2,LogisticRegression],\n",
        "         [CountVectorizer,1,1,LogisticRegression],\n",
        "         [CountVectorizer,2,2,LogisticRegression],\n",
        "\n",
        "         [TfidfVectorizer,1,1,RandomForestClassifier],\n",
        "         [TfidfVectorizer,2,2,RandomForestClassifier],\n",
        "         [CountVectorizer,1,1,RandomForestClassifier],\n",
        "         [CountVectorizer,2,2,RandomForestClassifier]\n",
        "         ]"
      ],
      "metadata": {
        "id": "F6PC2pqujmzj"
      },
      "execution_count": null,
      "outputs": []
    },
    {
      "cell_type": "code",
      "source": [
        "for i in List:\n",
        "  print(train_evaluate_model(i[0],i[1],i[2],i[3]))"
      ],
      "metadata": {
        "id": "5uhJnP1jJGX6",
        "colab": {
          "base_uri": "https://localhost:8080/"
        },
        "outputId": "fcdb7173-9038-4338-e8b8-5fe82c2fda4f"
      },
      "execution_count": null,
      "outputs": [
        {
          "output_type": "stream",
          "name": "stdout",
          "text": [
            "******************Model*******************************\n",
            "<class 'sklearn.feature_extraction.text.TfidfVectorizer'> 1 1 <class 'sklearn.tree._classes.DecisionTreeClassifier'>\n",
            "******************Number of Features******************\n",
            "Amount of feature: 665\n",
            "******************Classification Report***************\n",
            "              precision    recall  f1-score   support\n",
            "\n",
            "           0       0.88      0.78      0.82         9\n",
            "           1       0.83      0.91      0.87        11\n",
            "\n",
            "    accuracy                           0.85        20\n",
            "   macro avg       0.85      0.84      0.85        20\n",
            "weighted avg       0.85      0.85      0.85        20\n",
            "\n",
            "Model performance on the TEST DATA is: 0.85\n",
            "******************Evaluation of Model*****************\n",
            "Accuracy: 0.847985347985348\n",
            "None\n",
            "******************Model*******************************\n",
            "<class 'sklearn.feature_extraction.text.TfidfVectorizer'> 2 2 <class 'sklearn.tree._classes.DecisionTreeClassifier'>\n",
            "******************Number of Features******************\n",
            "Amount of feature: 1223\n",
            "******************Classification Report***************\n",
            "              precision    recall  f1-score   support\n",
            "\n",
            "           0       0.89      0.89      0.89         9\n",
            "           1       0.91      0.91      0.91        11\n",
            "\n",
            "    accuracy                           0.90        20\n",
            "   macro avg       0.90      0.90      0.90        20\n",
            "weighted avg       0.90      0.90      0.90        20\n",
            "\n",
            "Model performance on the TEST DATA is: 0.9\n",
            "******************Evaluation of Model*****************\n",
            "Accuracy: 0.8498168498168498\n",
            "None\n",
            "******************Model*******************************\n",
            "<class 'sklearn.feature_extraction.text.CountVectorizer'> 1 1 <class 'sklearn.tree._classes.DecisionTreeClassifier'>\n",
            "******************Number of Features******************\n",
            "Amount of feature: 665\n",
            "******************Classification Report***************\n",
            "              precision    recall  f1-score   support\n",
            "\n",
            "           0       0.82      1.00      0.90         9\n",
            "           1       1.00      0.82      0.90        11\n",
            "\n",
            "    accuracy                           0.90        20\n",
            "   macro avg       0.91      0.91      0.90        20\n",
            "weighted avg       0.92      0.90      0.90        20\n",
            "\n",
            "Model performance on the TEST DATA is: 0.9\n",
            "******************Evaluation of Model*****************\n",
            "Accuracy: 0.8223443223443224\n",
            "None\n",
            "******************Model*******************************\n",
            "<class 'sklearn.feature_extraction.text.CountVectorizer'> 2 2 <class 'sklearn.tree._classes.DecisionTreeClassifier'>\n",
            "******************Number of Features******************\n",
            "Amount of feature: 1223\n",
            "******************Classification Report***************\n",
            "              precision    recall  f1-score   support\n",
            "\n",
            "           0       0.89      0.89      0.89         9\n",
            "           1       0.91      0.91      0.91        11\n",
            "\n",
            "    accuracy                           0.90        20\n",
            "   macro avg       0.90      0.90      0.90        20\n",
            "weighted avg       0.90      0.90      0.90        20\n",
            "\n",
            "Model performance on the TEST DATA is: 0.9\n",
            "******************Evaluation of Model*****************\n",
            "Accuracy: 0.8516483516483516\n",
            "None\n",
            "******************Model*******************************\n",
            "<class 'sklearn.feature_extraction.text.TfidfVectorizer'> 1 1 <class 'sklearn.linear_model._logistic.LogisticRegression'>\n",
            "******************Number of Features******************\n",
            "Amount of feature: 665\n",
            "******************Classification Report***************\n",
            "              precision    recall  f1-score   support\n",
            "\n",
            "           0       0.90      1.00      0.95         9\n",
            "           1       1.00      0.91      0.95        11\n",
            "\n",
            "    accuracy                           0.95        20\n",
            "   macro avg       0.95      0.95      0.95        20\n",
            "weighted avg       0.96      0.95      0.95        20\n",
            "\n",
            "Model performance on the TEST DATA is: 0.95\n",
            "******************Evaluation of Model*****************\n",
            "Accuracy: 0.8974358974358975\n",
            "None\n",
            "******************Model*******************************\n",
            "<class 'sklearn.feature_extraction.text.TfidfVectorizer'> 2 2 <class 'sklearn.linear_model._logistic.LogisticRegression'>\n",
            "******************Number of Features******************\n",
            "Amount of feature: 1223\n",
            "******************Classification Report***************\n",
            "              precision    recall  f1-score   support\n",
            "\n",
            "           0       1.00      1.00      1.00         9\n",
            "           1       1.00      1.00      1.00        11\n",
            "\n",
            "    accuracy                           1.00        20\n",
            "   macro avg       1.00      1.00      1.00        20\n",
            "weighted avg       1.00      1.00      1.00        20\n",
            "\n",
            "Model performance on the TEST DATA is: 1.0\n",
            "******************Evaluation of Model*****************\n",
            "Accuracy: 0.717948717948718\n",
            "None\n",
            "******************Model*******************************\n",
            "<class 'sklearn.feature_extraction.text.CountVectorizer'> 1 1 <class 'sklearn.linear_model._logistic.LogisticRegression'>\n",
            "******************Number of Features******************\n",
            "Amount of feature: 665\n",
            "******************Classification Report***************\n",
            "              precision    recall  f1-score   support\n",
            "\n",
            "           0       1.00      1.00      1.00         9\n",
            "           1       1.00      1.00      1.00        11\n",
            "\n",
            "    accuracy                           1.00        20\n",
            "   macro avg       1.00      1.00      1.00        20\n",
            "weighted avg       1.00      1.00      1.00        20\n",
            "\n",
            "Model performance on the TEST DATA is: 1.0\n",
            "******************Evaluation of Model*****************\n",
            "Accuracy: 0.9487179487179488\n",
            "None\n",
            "******************Model*******************************\n",
            "<class 'sklearn.feature_extraction.text.CountVectorizer'> 2 2 <class 'sklearn.linear_model._logistic.LogisticRegression'>\n",
            "******************Number of Features******************\n",
            "Amount of feature: 1223\n",
            "******************Classification Report***************\n",
            "              precision    recall  f1-score   support\n",
            "\n",
            "           0       0.90      1.00      0.95         9\n",
            "           1       1.00      0.91      0.95        11\n",
            "\n",
            "    accuracy                           0.95        20\n",
            "   macro avg       0.95      0.95      0.95        20\n",
            "weighted avg       0.96      0.95      0.95        20\n",
            "\n",
            "Model performance on the TEST DATA is: 0.95\n",
            "******************Evaluation of Model*****************\n",
            "Accuracy: 0.9010989010989011\n",
            "None\n",
            "******************Model*******************************\n",
            "<class 'sklearn.feature_extraction.text.TfidfVectorizer'> 1 1 <class 'sklearn.ensemble._forest.RandomForestClassifier'>\n",
            "******************Number of Features******************\n",
            "Amount of feature: 665\n",
            "******************Classification Report***************\n",
            "              precision    recall  f1-score   support\n",
            "\n",
            "           0       1.00      1.00      1.00         9\n",
            "           1       1.00      1.00      1.00        11\n",
            "\n",
            "    accuracy                           1.00        20\n",
            "   macro avg       1.00      1.00      1.00        20\n",
            "weighted avg       1.00      1.00      1.00        20\n",
            "\n",
            "Model performance on the TEST DATA is: 1.0\n",
            "******************Evaluation of Model*****************\n",
            "Accuracy: 0.923076923076923\n",
            "None\n",
            "******************Model*******************************\n",
            "<class 'sklearn.feature_extraction.text.TfidfVectorizer'> 2 2 <class 'sklearn.ensemble._forest.RandomForestClassifier'>\n",
            "******************Number of Features******************\n",
            "Amount of feature: 1223\n",
            "******************Classification Report***************\n",
            "              precision    recall  f1-score   support\n",
            "\n",
            "           0       0.90      1.00      0.95         9\n",
            "           1       1.00      0.91      0.95        11\n",
            "\n",
            "    accuracy                           0.95        20\n",
            "   macro avg       0.95      0.95      0.95        20\n",
            "weighted avg       0.96      0.95      0.95        20\n",
            "\n",
            "Model performance on the TEST DATA is: 0.95\n",
            "******************Evaluation of Model*****************\n",
            "Accuracy: 0.847985347985348\n",
            "None\n",
            "******************Model*******************************\n",
            "<class 'sklearn.feature_extraction.text.CountVectorizer'> 1 1 <class 'sklearn.ensemble._forest.RandomForestClassifier'>\n",
            "******************Number of Features******************\n",
            "Amount of feature: 665\n",
            "******************Classification Report***************\n",
            "              precision    recall  f1-score   support\n",
            "\n",
            "           0       1.00      1.00      1.00         9\n",
            "           1       1.00      1.00      1.00        11\n",
            "\n",
            "    accuracy                           1.00        20\n",
            "   macro avg       1.00      1.00      1.00        20\n",
            "weighted avg       1.00      1.00      1.00        20\n",
            "\n",
            "Model performance on the TEST DATA is: 1.0\n",
            "******************Evaluation of Model*****************\n",
            "Accuracy: 0.923076923076923\n",
            "None\n",
            "******************Model*******************************\n",
            "<class 'sklearn.feature_extraction.text.CountVectorizer'> 2 2 <class 'sklearn.ensemble._forest.RandomForestClassifier'>\n",
            "******************Number of Features******************\n",
            "Amount of feature: 1223\n",
            "******************Classification Report***************\n",
            "              precision    recall  f1-score   support\n",
            "\n",
            "           0       0.69      1.00      0.82         9\n",
            "           1       1.00      0.64      0.78        11\n",
            "\n",
            "    accuracy                           0.80        20\n",
            "   macro avg       0.85      0.82      0.80        20\n",
            "weighted avg       0.86      0.80      0.80        20\n",
            "\n",
            "Model performance on the TEST DATA is: 0.8\n",
            "******************Evaluation of Model*****************\n",
            "Accuracy: 0.8241758241758242\n",
            "None\n"
          ]
        }
      ]
    },
    {
      "cell_type": "code",
      "source": [
        "train_evaluate_model(CountVectorizer,1,1,LogisticRegression) #best model(count vectorizer, 1-gram, Decision Tree )"
      ],
      "metadata": {
        "colab": {
          "base_uri": "https://localhost:8080/"
        },
        "id": "aUzB5TPklyLU",
        "outputId": "01dc61b4-af6e-466d-bab9-23561635876e"
      },
      "execution_count": null,
      "outputs": [
        {
          "output_type": "stream",
          "name": "stdout",
          "text": [
            "******************Model*******************************\n",
            "<class 'sklearn.feature_extraction.text.CountVectorizer'> 1 1 <class 'sklearn.linear_model._logistic.LogisticRegression'>\n",
            "******************Number of Features******************\n",
            "Amount of feature: 665\n",
            "******************Classification Report***************\n",
            "              precision    recall  f1-score   support\n",
            "\n",
            "           0       1.00      1.00      1.00         9\n",
            "           1       1.00      1.00      1.00        11\n",
            "\n",
            "    accuracy                           1.00        20\n",
            "   macro avg       1.00      1.00      1.00        20\n",
            "weighted avg       1.00      1.00      1.00        20\n",
            "\n",
            "Model performance on the TEST DATA is: 1.0\n",
            "******************Evaluation of Model*****************\n",
            "Accuracy: 0.9487179487179488\n"
          ]
        }
      ]
    },
    {
      "cell_type": "code",
      "source": [
        "def find_labels(type_of_vectorization,gram_value_1,gram_value_2,algorithm_name):\n",
        "  vectorizer_2 = type_of_vectorization(ngram_range=(gram_value_1,gram_value_2))\n",
        "  vectorizer_2.fit(X)\n",
        "\n",
        "  X_train_2 = vectorizer_2.transform(X) \n",
        "  X_test_2 = vectorizer_2.transform(UNLABELED)\n",
        "\n",
        "  model_2 = algorithm_name()\n",
        "  model_2 = model_2.fit(X_train_2, y)\n",
        "\n",
        "  pred_2 = model_2.predict(X_test_2)\n",
        "\n",
        "  for i in range(len(UNLABELED)):\n",
        "    print(\"Label is {} (0:MIS 1:PHIL) for \\n\".format(pred_2[i]),UNLABELED[i])\n",
        "    print(\"************\")"
      ],
      "metadata": {
        "id": "5OHQNs6XW6Lc"
      },
      "execution_count": null,
      "outputs": []
    },
    {
      "cell_type": "code",
      "source": [
        "find_labels(CountVectorizer,1,1,LogisticRegression)"
      ],
      "metadata": {
        "colab": {
          "base_uri": "https://localhost:8080/"
        },
        "id": "5UsJ9c61XSB_",
        "outputId": "3c324382-f793-4832-c9f7-2d9a368aed4d"
      },
      "execution_count": null,
      "outputs": [
        {
          "output_type": "stream",
          "name": "stdout",
          "text": [
            "Label is 1 (0:MIS 1:PHIL) for \n",
            " Advanced Study of Philosophical Texts (3+0+0) 3 ECTS 6\n",
            "In-depth study of selected texts from a thematic or historical perspective in their original language.\n",
            "Philosophy of Mathematics (3+0+0) 3 ECTS 6\n",
            "Foundations of mathematics and philosophical problems in the interpretation of the nature of mathematics.\n",
            "************\n",
            "Label is 1 (0:MIS 1:PHIL) for \n",
            " Ethical Issues in Computing (3+0+0) 3 ECTS 5\n",
            "Introduction to ethical issues related to computer-based information systems: accessibility and censorship; security and privacy; intellectual property: copyrights and plagiarism; the digital divide. Professional and ethical responsibilities of Information Technology (IT) users; sensitivity to end-user needs.\n",
            "Human Factors in Computing  (3+0+0) 3 ECTS 6\n",
            "Understanding the effects of the human factors in developing and operating the information systems. Practical issues encountered in man-machine interaction and user-interface design. Current trends in the development of man-machine interaction technologies.\n",
            "************\n",
            "Label is 1 (0:MIS 1:PHIL) for \n",
            " Metaphilosophy: The Nature of Philosophy (3+0+0) 3 ECTS 6\n",
            "An examination of philosophy as a cultural phenomenon and an expression of the human mind. Examination and evaluation of alternative forms of philosophy as ways of seeking wisdom or understanding. Consideration of the questions whether progress in philosophy is possible and whether philosophy yields knowledge.\n",
            "************\n",
            "Label is 1 (0:MIS 1:PHIL) for \n",
            " Aesthetics (3+0+0) 3 ECTS 6\n",
            "Overview of aesthetics: Nature of art, truth and representation, moral and political aspects of art and criticism.\n",
            "Translation of Philosophical Texts into Turkish (3+0+0) 3 ECTS 6\n",
            "Theory and practice of translating various kinds of philosophical texts from English into Turkish. General principles of translation. Work on specific difficulties in translating philosophy into Turkish.\n",
            "************\n",
            "Label is 0 (0:MIS 1:PHIL) for \n",
            " Entrepreneurship in Information Technology (3+0+0) 3 ECTS 5\n",
            "Overview of the startup process with an emphasis on the \"opportunity analysis\" aspect (identification and analyses of potential markets for entry as an entrepreneur) of this experience. This opportunity analysis will cover concepts and trends; target markets; competition; and success factors (i.e., people, money and technology and/or processes).\n",
            "************\n",
            "Label is 1 (0:MIS 1:PHIL) for \n",
            " Leadership and Motivation (3+0+0) 3 ECTS 5\n",
            "Understanding human motivation. Basic needs and human nature. The content and process of motivation. Social and group influences on motivation. Motivation, satisfaction and performance. Making the job more motivating. Performance evaluations and reward structures. Leadership styles. Coaching and supervision. Teamwork. Cultures of organizations. Organizational change and development.\n",
            "************\n",
            "Label is 0 (0:MIS 1:PHIL) for \n",
            " Information Systems Ventures (3+0+0) 3 ECTS 5\n",
            "Entrepreneurship in information systems. Preparing a business model and plan. The financing of information system based businesses: raising seed and venture capital, assessment of venture capital risks and returns, total and partial valuation approaches for information systems ventures.\n",
            "Financial Information Systems (3+0+0) 3\n",
            "The development, economics and risks of main types of interbank payment and settlement systems. Securities trading and settlement systems, international payment systems, emerging payment systems and the internet.\n",
            "************\n",
            "Label is 1 (0:MIS 1:PHIL) for \n",
            " Philosophy as a Way of Life (3+0+0) 3 ECTS 7\n",
            "Historical and philosophical examination of the attempt to live on the basis of philosophical understanding, as it occurs in the work of such people as Pythagoras, Plato, Aristotle, the Stoics, the Epicureans, Plotinus, Augustine, Spinoza, Schopenhauer, Kierkegaard, Marx, Nietzsche, existentialists, and eastern philosophers.\n",
            "************\n",
            "Label is 1 (0:MIS 1:PHIL) for \n",
            " Human Rights and Philosophy of Law (3+0+0) 3 ECTS 6\n",
            "Examination of the sources, stages of development and significance of basic human rights and liberties. Discussion of fundamental principles underlying systems of law. Views of philosophers from Plato onwards.\n",
            "Freedom (3+0+0) 3 ECTS 6\n",
            "Contemporary debates about freedom in social and political philosophy, such as the negative and positive conceptions of freedom, the illusion of freedom, internal constraints on freedom, freedom of choice, free agency, social and political conditions of freedom.\n",
            "Advanced Political Philosophy (3+0+0) 3 ECTS 6\n",
            "Critical analysis of debates within contemporary political philosophy or in-depth study of major texts by a historical figure.\n",
            "************\n",
            "Label is 0 (0:MIS 1:PHIL) for \n",
            " Integrated Marketing Communications  (3+0+0) 3 ECTS 5\n",
            "Examination of the integrated marketing communications mix. Design and management of marketing communication campaigns in the context of traditional, online, social, mobile and other digital media. Application of advertising, promotion, direct marketing and other marketing communication tools with an innovative outlook.\n",
            "Introduction to Business Applications of AI (3+0+2) 4 ECTS 5\n",
            "Introduction of the role and potential value of AI applications in business. Emphasis on the application of AI technology to aid in the solutions of problems facing the modern business. Representation and information processing techniques. Search, control, decision making, modeling, and prototyping. Usage of a current AI language as a programming tool.\n",
            "************\n"
          ]
        }
      ]
    }
  ]
}